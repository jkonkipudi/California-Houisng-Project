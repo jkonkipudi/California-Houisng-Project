{
  "nbformat": 4,
  "nbformat_minor": 0,
  "metadata": {
    "colab": {
      "provenance": []
    },
    "kernelspec": {
      "name": "python3",
      "display_name": "Python 3"
    },
    "language_info": {
      "name": "python"
    }
  },
  "cells": [
    {
      "cell_type": "markdown",
      "source": [
        "Q1: You are working in a bank and you have been given two lists of the employees who worked in 2021. Employee’s name in list 1 are Ramesh, Suresh, Mahesh, Ali, Jacob and Saritha. List 2 contains the names of Ali, Mukesh, Mahesh, Jacob, Sai, Sarita. Please write a program which helps to identify people who are common in both lists. Please do not use any in-built function. "
      ],
      "metadata": {
        "id": "DJlBfiO_cPP0"
      }
    },
    {
      "cell_type": "code",
      "source": [
        "# List1 = [Ramesh, Suresh, Mahesh, Ali, Jacob, Saritha]\n",
        "# List2 = [Ali, Mukesh, Mahesh, Jacob, Sai, Saritha]\n",
        "\n",
        "List1 = [\"Ramesh\", \"Suresh\", \"Mahesh\", \"Ali\", \"Jacob\", \"Saritha\"]\n",
        "List2 = [\"Ali\", \"Mukesh\", \"Mahesh\", \"Jacob\", \"Sai\", \"Saritha\"]\n",
        "Common_people = []\n",
        "\n",
        "for i in List1:\n",
        "  if i in List2:\n",
        "    Common_people.append(i)\n",
        "print(Common_people)\n"
      ],
      "metadata": {
        "colab": {
          "base_uri": "https://localhost:8080/"
        },
        "id": "EcBMyqPKcRNQ",
        "outputId": "34c56d4c-ee34-482d-db23-d41acfcd977f"
      },
      "execution_count": null,
      "outputs": [
        {
          "output_type": "stream",
          "name": "stdout",
          "text": [
            "['Mahesh', 'Ali', 'Jacob', 'Saritha']\n"
          ]
        }
      ]
    },
    {
      "cell_type": "markdown",
      "source": [
        "Q2: While entering data, someone entered a few names as a common string “Ramesh Suresh Mohit”. Please write a program which separates all the names and convert them into a list. Once converted in a list, please write a program which adds their age. "
      ],
      "metadata": {
        "id": "TdyOm5MZhcwA"
      }
    },
    {
      "cell_type": "code",
      "source": [
        "s = \"Ramesh Suresh Mohit\"\n",
        "sp = s.split()\n",
        "print(sp)\n",
        "\n",
        "l = list(sp)\n",
        "print(l)\n",
        "type(l)\n",
        "\n",
        "\n",
        "age = [25, 22, 26]\n",
        "\n",
        "type(age)\n",
        "\n",
        "tot_list = zip(l,age) # tot_list = list(zip(l,age))\n",
        "\n",
        "for (a,b) in tot_list:\n",
        "  print(a,b)\n"
      ],
      "metadata": {
        "colab": {
          "base_uri": "https://localhost:8080/"
        },
        "id": "K0rzzJrWm0fw",
        "outputId": "56cc5c98-ed8b-4c4f-d971-59fb1d964cb1"
      },
      "execution_count": null,
      "outputs": [
        {
          "output_type": "stream",
          "name": "stdout",
          "text": [
            "['Ramesh', 'Suresh', 'Mohit']\n",
            "['Ramesh', 'Suresh', 'Mohit']\n",
            "Ramesh 25\n",
            "Suresh 22\n",
            "Mohit 26\n"
          ]
        }
      ]
    },
    {
      "cell_type": "markdown",
      "source": [
        "Q3: A few students from a university have taken three exams\n",
        "\n",
        "Name = Sam, Jacy, Tom, Steve\n",
        "\n",
        "Python = 25, 26, 29, 28\n",
        "\n",
        "Statistics = 23, 21, 19, 25\n",
        "\n",
        "SQL = 29, 27, 28, 25\n",
        "\n",
        "\n",
        "Please write a program which calculates mean values (no in-built function for mean) of all three tests and print the highest mean value. Addition and other functions are allowed. Please also report who scored the highest mark in python using programming construct.  \n",
        "\n"
      ],
      "metadata": {
        "id": "E_CoqXnOstUy"
      }
    },
    {
      "cell_type": "code",
      "source": [
        "Name = ['Sam', 'Jacy', 'Tom', 'Steve']\n",
        "Python = [25, 26, 29, 28]\n",
        "Statistics = [23, 21, 19, 25]\n",
        "SQL = [29, 27, 28, 25]\n",
        "\n",
        "# Mean of Python\n",
        "mean_py = sum_py = 0\n",
        "\n",
        "for i in range(0,len(Python)):\n",
        "  sum_py+=Python[i]\n",
        "mean_py = sum_py/len(Python)  \n",
        "\n",
        "print('Mean value of Python subject is :',mean_py)\n",
        "\n",
        "\n",
        "# Mean of Statistics\n",
        "mean_st = sum_st = 0\n",
        "\n",
        "for i in range(0,len(Statistics)):\n",
        " sum_st+=Statistics[i]\n",
        "mean_st = sum_st/len(Statistics)\n",
        "\n",
        "print(\"Mean value of Python subject is:\", mean_st)\n",
        "\n",
        "# Mean of SQL\n",
        "\n",
        "mean_sql=sum_sql = 0\n",
        "\n",
        "for i in range(0,len(SQL)):\n",
        "  sum_sql+=SQL[i]\n",
        "mean_sql = sum_sql/len(SQL)\n",
        "\n",
        "print(\"Mean value of the SQL subject is :\", mean_sql)\n",
        "\n",
        "Max_of_mean_values= max(mean_py, mean_st, mean_sql)\n",
        "print('Max among the mena values is: ',Max_of_mean_values)\n",
        "\n",
        "Max_score_python=max(dict(zip(Name,Python)))\n",
        "\n",
        "print('Person scored MAX in Python is :',Max_score_python)\n",
        "\n",
        "\n"
      ],
      "metadata": {
        "colab": {
          "base_uri": "https://localhost:8080/"
        },
        "id": "kYC7PzGzsxpg",
        "outputId": "b7b5e423-4808-4105-a258-3e1af30b1eee"
      },
      "execution_count": null,
      "outputs": [
        {
          "output_type": "stream",
          "name": "stdout",
          "text": [
            "Mean value of Python subject is : 27.0\n",
            "Mean value of Python subject is: 22.0\n",
            "Mean value of the SQL subject is : 27.25\n",
            "Max among the mena values is:  27.25\n",
            "Person scored MAX in Python is : Tom\n"
          ]
        }
      ]
    },
    {
      "cell_type": "markdown",
      "source": [
        "Q4: You are working in a medical store. A patient came to your medical store and asked to buy 2 strips of paracetamol, 3 strips of azithromycin and 5 strips of Vitamin C. One strip of paracetamol costs Rs 35, one strip of azithromycin costs Rs 49 and one strip of vitamin c costs Rs. 33. Patient gave you Rs 2000. Please tell us what is the total cost of each medicine, total cost of all medicine and how much money you refunded to the patient?  "
      ],
      "metadata": {
        "id": "ME4tt-52LnGh"
      }
    },
    {
      "cell_type": "code",
      "source": [
        "no_of_strips = [2,3,5]\n",
        "types_of_strips= ['paracetmol','azithromycin', 'Vitamin C']\n",
        "cost_of_ind_strips =  [35,49,33]\n",
        "customer_amount = 2000\n",
        "\n",
        "cost_of_each_tablets = []\n",
        "tot_cost_ind_strips = []\n",
        "tot_amount = 0\n",
        "\n",
        "cost_of_each_tablets =list(zip(no_of_strips, cost_of_ind_strips))\n",
        "\n",
        "print(cost_of_each_tablets )\n",
        "\n",
        "for (a,b) in cost_of_each_tablets :\n",
        "  tot_cost_ind_strips.append(a*b)\n",
        "\n",
        "print(list(zip(types_of_strips,tot_cost_ind_strips)))\n",
        "\n",
        "\n",
        "for i in tot_cost_ind_strips:\n",
        "  tot_amount = tot_amount+i\n",
        "  \n",
        "print('Total amount of all the tablets:',tot_amount)\n",
        "\n",
        "Balance_amount = (customer_amount) -(tot_amount)\n",
        "\n",
        "print('Balance amount paid to the customer:', Balance_amount)\n"
      ],
      "metadata": {
        "colab": {
          "base_uri": "https://localhost:8080/"
        },
        "id": "0iixY0AULpWD",
        "outputId": "6f21fbce-a745-4040-fe65-121055107bfd"
      },
      "execution_count": null,
      "outputs": [
        {
          "output_type": "stream",
          "name": "stdout",
          "text": [
            "[(2, 35), (3, 49), (5, 33)]\n",
            "[('paracetmol', 70), ('azithromycin', 147), ('Vitamin C', 165)]\n",
            "Total amount of all the tablets: 382\n",
            "Balance amount paid to the customer: 1618\n"
          ]
        }
      ]
    },
    {
      "cell_type": "markdown",
      "source": [
        "\n",
        "Q5: Accept a sentence as input and find the number of vowels in it. Assume that the sentence has no punctuation marks. For example: I am learning python contains 6 vowels. This function should be applicable for all other different sentences."
      ],
      "metadata": {
        "id": "mqvyaSGFW8A_"
      }
    },
    {
      "cell_type": "code",
      "source": [
        "inp_str= str(input('Enter any scentence as input:' ))\n",
        "\n",
        "\n",
        "vowels = ['A','E', 'I', 'O', 'U', 'a','e', 'i', 'o', 'u']\n",
        "COUNT=0\n",
        "for i in inp_str:\n",
        "  if i in vowels:\n",
        "    COUNT+=1\n",
        "print(COUNT)\n",
        "    \n"
      ],
      "metadata": {
        "colab": {
          "base_uri": "https://localhost:8080/"
        },
        "id": "NzQDm2lfW_PF",
        "outputId": "0df3c500-b9ba-48c5-ef1d-6755d25ec0a9"
      },
      "execution_count": null,
      "outputs": [
        {
          "output_type": "stream",
          "name": "stdout",
          "text": [
            "Enter any scentence as input:I am learning python \n",
            "6\n"
          ]
        }
      ]
    },
    {
      "cell_type": "markdown",
      "source": [
        "Q6: You have been appointed by the election commission to create a website. Your first task is to work on a program which tells candidates if they are eligible for voting or not. If they are eligible your output should be ‘Congrats! You are eligible’, otherwise it should tell that you have to return after X number of years. Eligibility criteria for voting is 18 years. "
      ],
      "metadata": {
        "id": "L8mUIqNebwbQ"
      }
    },
    {
      "cell_type": "code",
      "source": [
        "from datetime import date\n",
        "\n",
        "\n",
        "\n",
        "birth_day = int(input(\"Enter your day of birth:\" ))\n",
        "birth_month = int(input(\"Enter your month of birth:\" ))\n",
        "birth_year = int(input(\"Enter your year of birth:\" ))\n",
        "\n",
        "current_day = date.today().day\n",
        "current_month = date.today().month\n",
        "current_year = date.today().year\n",
        "\n",
        "Age_day = current_day - birth_day\n",
        "Age_month = current_month - birth_month\n",
        "Age_year =  current_year - birth_year\n",
        "\n",
        "print(f\"Your exact age is : {Age_year} Years,{Age_month} Months, {Age_day} Days\" )\n",
        "\n",
        "if Age_year>18:\n",
        "  print(\"Congrats!\")\n",
        "else:\n",
        "  print(f\"You have to return after: {18-Age_year} YEARS\")\n",
        "\n",
        "\n",
        "\n",
        "\n",
        "\n",
        "\n",
        "\n",
        "\n",
        "\n"
      ],
      "metadata": {
        "id": "8uDYlQpDbuIM",
        "colab": {
          "base_uri": "https://localhost:8080/"
        },
        "outputId": "683d96bc-7843-48f9-a693-01b99f53f2bf"
      },
      "execution_count": 19,
      "outputs": [
        {
          "output_type": "stream",
          "name": "stdout",
          "text": [
            "Enter your day of birth:15\n",
            "Enter your month of birth:4\n",
            "Enter your year of birth:2013\n",
            "Your exact age is : 10 Years,-3 Months, 3 Days\n",
            "You have to return after: 8 YEARS\n"
          ]
        }
      ]
    },
    {
      "cell_type": "code",
      "source": [
        "import datetime\n",
        "\n",
        "def cal_age(year,month,day):\n",
        "  today = date.today()\n",
        "  dob = date(year,month,day)\n",
        "  age =  int((today-dob).days/365)\n",
        "  print(age)\n",
        "\n",
        "cal_age(1986,7,14)\n"
      ],
      "metadata": {
        "colab": {
          "base_uri": "https://localhost:8080/"
        },
        "id": "Ksr-tf_Yta6N",
        "outputId": "7ab37e65-2f55-42f2-f08a-a761ab9b83ac"
      },
      "execution_count": 41,
      "outputs": [
        {
          "output_type": "stream",
          "name": "stdout",
          "text": [
            "36\n"
          ]
        }
      ]
    }
  ]
}